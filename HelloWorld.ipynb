{
  "nbformat": 4,
  "nbformat_minor": 0,
  "metadata": {
    "colab": {
      "name": "HelloWorld.ipynb",
      "provenance": [],
      "authorship_tag": "ABX9TyMR+tmHRfxf5RMLnDZHc8cm",
      "include_colab_link": true
    },
    "kernelspec": {
      "name": "python3",
      "display_name": "Python 3"
    }
  },
  "cells": [
    {
      "cell_type": "markdown",
      "metadata": {
        "id": "view-in-github",
        "colab_type": "text"
      },
      "source": [
        "<a href=\"https://colab.research.google.com/github/gitaicon/ailearning/blob/master/HelloWorld.ipynb\" target=\"_parent\"><img src=\"https://colab.research.google.com/assets/colab-badge.svg\" alt=\"Open In Colab\"/></a>"
      ]
    },
    {
      "cell_type": "code",
      "metadata": {
        "id": "6OTcm_2skKDV",
        "colab_type": "code",
        "colab": {}
      },
      "source": [
        "#google driveをマウントする\n",
        "from google.colab import drive\n",
        "drive.mount('/content/drive')"
      ],
      "execution_count": 0,
      "outputs": []
    },
    {
      "cell_type": "code",
      "metadata": {
        "id": "WY2FskhKkZaK",
        "colab_type": "code",
        "colab": {
          "base_uri": "https://localhost:8080/",
          "height": 51
        },
        "outputId": "ef0a469a-4f27-4920-f73c-48e65bc899f7"
      },
      "source": [
        "#カレントディレクトリを設定する\n",
        "import os\n",
        "import shutil\n",
        "os.chdir('/content/drive/My Drive/Java_sample')\n",
        "path_name = os.getcwd()\n",
        "\n",
        "#ソースをアップロードして、指定フォルダーへコピーする\n",
        "file_name = '/HelloWorld.java'\n",
        "path_all = path_name + file_name\n",
        "print(path_all)\n",
        "shutil.copy(file_name, path_name)\n",
        "\n",
        "#コマンドでJavaソースをコンパイル＆実行する\n",
        "!javac HelloWorld.java\n",
        "!java HelloWorld"
      ],
      "execution_count": 34,
      "outputs": [
        {
          "output_type": "stream",
          "text": [
            "/content/drive/My Drive/Java_sample/HelloWorld.java\n",
            "Hello World!!\n"
          ],
          "name": "stdout"
        }
      ]
    }
  ]
}